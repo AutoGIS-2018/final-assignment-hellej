{
 "cells": [
  {
   "cell_type": "code",
   "execution_count": 1,
   "metadata": {},
   "outputs": [],
   "source": [
    "# GEOCODING DEMO"
   ]
  },
  {
   "cell_type": "code",
   "execution_count": 2,
   "metadata": {},
   "outputs": [],
   "source": [
    "import utils.dt_geocode as gc"
   ]
  },
  {
   "cell_type": "code",
   "execution_count": 3,
   "metadata": {},
   "outputs": [],
   "source": [
    "search_word = 'physicum'"
   ]
  },
  {
   "cell_type": "code",
   "execution_count": 4,
   "metadata": {},
   "outputs": [
    {
     "name": "stdout",
     "output_type": "stream",
     "text": [
      "found: Physicum, Gustaf Hällströmin katu 2, Helsinki\n",
      "at: [24.962611, 60.204849]\n",
      "from neighbourhood: Kumpula\n",
      "with confidence: 1\n"
     ]
    }
   ],
   "source": [
    "# geocode with search_word using Digitransit Geocoding API\n",
    "gc_result = gc.geocode(search_word)"
   ]
  },
  {
   "cell_type": "code",
   "execution_count": 5,
   "metadata": {},
   "outputs": [
    {
     "name": "stdout",
     "output_type": "stream",
     "text": [
      "{'coords': [24.962611, 60.204849], 'place': 'Physicum, Gustaf Hällströmin katu 2, Helsinki', 'confidence': 1, 'search_word': 'physicum'}\n"
     ]
    }
   ],
   "source": [
    "# print geocoding result dictionary\n",
    "print(gc_result)"
   ]
  },
  {
   "cell_type": "code",
   "execution_count": null,
   "metadata": {},
   "outputs": [],
   "source": []
  }
 ],
 "metadata": {
  "kernelspec": {
   "display_name": "Python 3",
   "language": "python",
   "name": "python3"
  },
  "language_info": {
   "codemirror_mode": {
    "name": "ipython",
    "version": 3
   },
   "file_extension": ".py",
   "mimetype": "text/x-python",
   "name": "python",
   "nbconvert_exporter": "python",
   "pygments_lexer": "ipython3",
   "version": "3.6.5"
  }
 },
 "nbformat": 4,
 "nbformat_minor": 2
}
