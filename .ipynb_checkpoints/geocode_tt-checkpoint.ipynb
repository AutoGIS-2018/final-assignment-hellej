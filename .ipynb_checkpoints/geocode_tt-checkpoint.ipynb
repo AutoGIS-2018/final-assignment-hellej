{
 "cells": [
  {
   "cell_type": "code",
   "execution_count": 1,
   "metadata": {},
   "outputs": [],
   "source": [
    "import geocode as gc"
   ]
  },
  {
   "cell_type": "code",
   "execution_count": 2,
   "metadata": {},
   "outputs": [],
   "source": [
    "search_word = 'physicum'"
   ]
  },
  {
   "cell_type": "code",
   "execution_count": 3,
   "metadata": {},
   "outputs": [
    {
     "name": "stdout",
     "output_type": "stream",
     "text": [
      "\n",
      "Geocoding: physicum\n",
      "request: https://api.digitransit.fi/geocoding/v1/search?text=physicum&size=1\n",
      "found: Physicum, Gustaf Hällströmin katu 2, Helsinki\n",
      "at: [24.962611, 60.204849]\n",
      "from neighbourhood: Kumpula\n",
      "with confidence: 1\n"
     ]
    }
   ],
   "source": [
    "coords = gc.geocode(search_word)"
   ]
  },
  {
   "cell_type": "code",
   "execution_count": 4,
   "metadata": {},
   "outputs": [
    {
     "name": "stdout",
     "output_type": "stream",
     "text": [
      "[24.962611, 60.204849]\n"
     ]
    }
   ],
   "source": [
    "print(coords)"
   ]
  },
  {
   "cell_type": "code",
   "execution_count": 5,
   "metadata": {},
   "outputs": [],
   "source": [
    "# TRAVEL TIME TESTS"
   ]
  },
  {
   "cell_type": "code",
   "execution_count": 4,
   "metadata": {},
   "outputs": [],
   "source": [
    "import geopandas as gpd\n",
    "import matrix_utils as mu\n",
    "\n",
    "cinemas = gpd.read_file('data/temp/cinemas.shp')\n",
    "large_cinemas = cinemas.loc[cinemas['rooms'] > 2]\n",
    "target_points = large_cinemas[:4]\n",
    "# target_points.head(5)"
   ]
  },
  {
   "cell_type": "code",
   "execution_count": 5,
   "metadata": {},
   "outputs": [
    {
     "name": "stdout",
     "output_type": "stream",
     "text": [
      "CRS match: True\n",
      "{'ykr_ids': [5879925, 5975376, 5978593, 5936704], 'target_idx': [0, 1, 2, 3], 'names': ['FLAMINGO', 'KINOPALATSI', 'OMENA', 'SELLO']}\n"
     ]
    }
   ],
   "source": [
    "target_info = mu.targets_ykr_ids(target_points)\n",
    "print(target_info)"
   ]
  },
  {
   "cell_type": "code",
   "execution_count": 6,
   "metadata": {},
   "outputs": [
    {
     "name": "stdout",
     "output_type": "stream",
     "text": [
      "data/HelsinkiTravelTimeMatrix2018/5879xxx/travel_times_to_ 5879925.txt\n",
      "data/HelsinkiTravelTimeMatrix2018/5879xxx/travel_times_to_ 5879925.txt\n",
      "data/HelsinkiTravelTimeMatrix2018/5879xxx/travel_times_to_ 5879925.txt\n",
      "data/HelsinkiTravelTimeMatrix2018/5879xxx/travel_times_to_ 5879925.txt\n",
      "   from_id    to_id  pt_m_t\n",
      "0  5785640  5879925     104\n",
      "1  5785641  5879925     102\n",
      "2  5785642  5879925     103\n",
      "3  5785643  5879925     107\n",
      "4  5787544  5879925      97\n",
      "5  5787545  5879925      98\n",
      "6  5787546  5879925     101\n",
      "7  5787547  5879925     109\n",
      "8  5787548  5879925     105\n",
      "9  5787549  5879925     109\n",
      "   from_id    to_id  pt_m_t\n",
      "0  5785640  5975376     123\n",
      "1  5785641  5975376     121\n",
      "2  5785642  5975376     123\n",
      "3  5785643  5975376     127\n",
      "4  5787544  5975376     116\n",
      "5  5787545  5975376     117\n",
      "6  5787546  5975376     120\n",
      "7  5787547  5975376     128\n",
      "8  5787548  5975376     124\n",
      "9  5787549  5975376     129\n",
      "   from_id    to_id  pt_m_t\n",
      "0  5785640  5978593     150\n",
      "1  5785641  5978593     148\n",
      "2  5785642  5978593     150\n",
      "3  5785643  5978593     154\n",
      "4  5787544  5978593     140\n",
      "5  5787545  5978593     141\n",
      "6  5787546  5978593     147\n",
      "7  5787547  5978593     155\n",
      "8  5787548  5978593     151\n",
      "9  5787549  5978593     155\n",
      "   from_id    to_id  pt_m_t\n",
      "0  5785640  5936704     128\n",
      "1  5785641  5936704     119\n",
      "2  5785642  5936704     121\n",
      "3  5785643  5936704     125\n",
      "4  5787544  5936704     121\n",
      "5  5787545  5936704     122\n",
      "6  5787546  5936704     125\n",
      "7  5787547  5936704     126\n",
      "8  5787548  5936704     122\n",
      "9  5787549  5936704     126\n"
     ]
    }
   ],
   "source": [
    "tt = mu.get_tt_between_targets(target_info, 'data/HelsinkiTravelTimeMatrix2018/')"
   ]
  },
  {
   "cell_type": "code",
   "execution_count": null,
   "metadata": {},
   "outputs": [],
   "source": []
  }
 ],
 "metadata": {
  "kernelspec": {
   "display_name": "Python 3",
   "language": "python",
   "name": "python3"
  },
  "language_info": {
   "codemirror_mode": {
    "name": "ipython",
    "version": 3
   },
   "file_extension": ".py",
   "mimetype": "text/x-python",
   "name": "python",
   "nbconvert_exporter": "python",
   "pygments_lexer": "ipython3",
   "version": "3.6.5"
  }
 },
 "nbformat": 4,
 "nbformat_minor": 2
}
