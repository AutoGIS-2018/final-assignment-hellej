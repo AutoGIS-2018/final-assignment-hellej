{
 "cells": [
  {
   "cell_type": "code",
   "execution_count": 22,
   "metadata": {},
   "outputs": [],
   "source": [
    "# MULTI STOP ROUTE OPTIMIZATION DEMO"
   ]
  },
  {
   "cell_type": "code",
   "execution_count": 23,
   "metadata": {},
   "outputs": [],
   "source": [
    "import geopandas as gpd\n",
    "import utils.matrix as mtrx\n",
    "import utils.routes_tt as rtts"
   ]
  },
  {
   "cell_type": "code",
   "execution_count": 24,
   "metadata": {},
   "outputs": [],
   "source": [
    "# read and filter test data (cinemas as stops)\n",
    "cinemas = gpd.read_file('data/temp/cinemas.shp')\n",
    "large_cinemas = cinemas.loc[cinemas['rooms'] > 1]\n",
    "target_points = large_cinemas[:7]\n",
    "# target_points.head(5)"
   ]
  },
  {
   "cell_type": "code",
   "execution_count": 25,
   "metadata": {},
   "outputs": [
    {
     "name": "stdout",
     "output_type": "stream",
     "text": [
      "\n",
      "Extract YKR ids for targets...\n",
      "CRS match: True\n",
      "{5879925: {'name': 'FLAMINGO', 'address': 'Tasetie 8, 01510 Vantaa, Finland'}, 5977010: {'name': 'KINO ENGEL', 'address': 'Sofiankatu 4, 00101 Helsinki, Finland'}, 5975376: {'name': 'KINOPALATSI', 'address': 'Kaisaniemenkatu 2, 00100 Helsinki, Finland'}, 5977009: {'name': 'MAXIM', 'address': 'Kluuvikatu 1, 00100 Helsinki, Finland'}, 5978593: {'name': 'OMENA', 'address': 'Piispansilta 11, 02230 Espoo, Finland'}, 5936704: {'name': 'SELLO', 'address': 'Ratsukatu 3, 02600 Espoo, Finland'}, 5975372: {'name': 'TENNISPALATSI', 'address': 'Salomonkatu 15, 00100 Helsinki, Finland'}}\n"
     ]
    }
   ],
   "source": [
    "# get and gather target_info (ykr_ids, names & addresses)\n",
    "target_info = mtrx.targets_ykr_ids(target_points, 'name', 'address_y')\n",
    "print(target_info)"
   ]
  },
  {
   "cell_type": "code",
   "execution_count": 26,
   "metadata": {},
   "outputs": [],
   "source": [
    "# read and gather only relevant travel time dataframes to a dictionary\n",
    "tt_dfs = mtrx.get_tt_between_targets(target_info, 'data/HelsinkiTravelTimeMatrix2018/')"
   ]
  },
  {
   "cell_type": "code",
   "execution_count": 27,
   "metadata": {},
   "outputs": [
    {
     "name": "stdout",
     "output_type": "stream",
     "text": [
      "\n",
      "Get all possible routes...\n",
      "found 5040 route options\n"
     ]
    }
   ],
   "source": [
    "# find and collect all possible route options\n",
    "target_perms = rtts.get_target_permutations(tt_dfs)"
   ]
  },
  {
   "cell_type": "code",
   "execution_count": 28,
   "metadata": {},
   "outputs": [],
   "source": [
    "# extract and collect travel times between stops for all route options\n",
    "perms_ttimes = rtts.get_all_ttimes(target_perms, tt_dfs)"
   ]
  },
  {
   "cell_type": "code",
   "execution_count": 29,
   "metadata": {},
   "outputs": [],
   "source": [
    "# calculate total travel times for all route options\n",
    "all_ttimes_summary = rtts.calculate_total_ttimes(perms_ttimes, target_info)"
   ]
  },
  {
   "cell_type": "code",
   "execution_count": 30,
   "metadata": {},
   "outputs": [],
   "source": [
    "# get best routes from all route options by minimizing total travel time\n",
    "best_routes = rtts.get_best_routes(all_ttimes_summary, '', '')"
   ]
  },
  {
   "cell_type": "code",
   "execution_count": 31,
   "metadata": {},
   "outputs": [
    {
     "name": "stdout",
     "output_type": "stream",
     "text": [
      "\n",
      "Found multiple best routes (2):\n",
      "Route 1: 130 min:\n",
      "  1. FLAMINGO: Tasetie 8, 01510 Vantaa, Finland\n",
      "  2. KINOPALATSI: Kaisaniemenkatu 2, 00100 Helsinki, Finland (44 min)\n",
      "  3. MAXIM: Kluuvikatu 1, 00100 Helsinki, Finland (4 min)\n",
      "  4. KINO ENGEL: Sofiankatu 4, 00101 Helsinki, Finland (4 min)\n",
      "  5. TENNISPALATSI: Salomonkatu 15, 00100 Helsinki, Finland (14 min)\n",
      "  6. OMENA: Piispansilta 11, 02230 Espoo, Finland (27 min)\n",
      "  7. SELLO: Ratsukatu 3, 02600 Espoo, Finland (37 min)\n",
      "Route 2: 130 min:\n",
      "  1. FLAMINGO: Tasetie 8, 01510 Vantaa, Finland\n",
      "  2. SELLO: Ratsukatu 3, 02600 Espoo, Finland (49 min)\n",
      "  3. OMENA: Piispansilta 11, 02230 Espoo, Finland (39 min)\n",
      "  4. TENNISPALATSI: Salomonkatu 15, 00100 Helsinki, Finland (26 min)\n",
      "  5. KINOPALATSI: Kaisaniemenkatu 2, 00100 Helsinki, Finland (8 min)\n",
      "  6. MAXIM: Kluuvikatu 1, 00100 Helsinki, Finland (4 min)\n",
      "  7. KINO ENGEL: Sofiankatu 4, 00101 Helsinki, Finland (4 min)\n",
      "Route 3: 131 min:\n",
      "  1. FLAMINGO: Tasetie 8, 01510 Vantaa, Finland\n",
      "  2. SELLO: Ratsukatu 3, 02600 Espoo, Finland (49 min)\n",
      "  3. MAXIM: Kluuvikatu 1, 00100 Helsinki, Finland (35 min)\n",
      "  4. KINO ENGEL: Sofiankatu 4, 00101 Helsinki, Finland (4 min)\n",
      "  5. KINOPALATSI: Kaisaniemenkatu 2, 00100 Helsinki, Finland (7 min)\n",
      "  6. TENNISPALATSI: Salomonkatu 15, 00100 Helsinki, Finland (9 min)\n",
      "  7. OMENA: Piispansilta 11, 02230 Espoo, Finland (27 min)\n",
      "Route 4: 131 min:\n",
      "  1. FLAMINGO: Tasetie 8, 01510 Vantaa, Finland\n",
      "  2. SELLO: Ratsukatu 3, 02600 Espoo, Finland (49 min)\n",
      "  3. KINO ENGEL: Sofiankatu 4, 00101 Helsinki, Finland (38 min)\n",
      "  4. MAXIM: Kluuvikatu 1, 00100 Helsinki, Finland (4 min)\n",
      "  5. KINOPALATSI: Kaisaniemenkatu 2, 00100 Helsinki, Finland (4 min)\n",
      "  6. TENNISPALATSI: Salomonkatu 15, 00100 Helsinki, Finland (9 min)\n",
      "  7. OMENA: Piispansilta 11, 02230 Espoo, Finland (27 min)\n",
      "Route 5: 131 min:\n",
      "  1. FLAMINGO: Tasetie 8, 01510 Vantaa, Finland\n",
      "  2. SELLO: Ratsukatu 3, 02600 Espoo, Finland (49 min)\n",
      "  3. KINOPALATSI: Kaisaniemenkatu 2, 00100 Helsinki, Finland (33 min)\n",
      "  4. MAXIM: Kluuvikatu 1, 00100 Helsinki, Finland (4 min)\n",
      "  5. KINO ENGEL: Sofiankatu 4, 00101 Helsinki, Finland (4 min)\n",
      "  6. TENNISPALATSI: Salomonkatu 15, 00100 Helsinki, Finland (14 min)\n",
      "  7. OMENA: Piispansilta 11, 02230 Espoo, Finland (27 min)\n",
      "Route 6: 132 min:\n",
      "  1. FLAMINGO: Tasetie 8, 01510 Vantaa, Finland\n",
      "  2. KINOPALATSI: Kaisaniemenkatu 2, 00100 Helsinki, Finland (44 min)\n",
      "  3. KINO ENGEL: Sofiankatu 4, 00101 Helsinki, Finland (7 min)\n",
      "  4. MAXIM: Kluuvikatu 1, 00100 Helsinki, Finland (4 min)\n",
      "  5. TENNISPALATSI: Salomonkatu 15, 00100 Helsinki, Finland (13 min)\n",
      "  6. OMENA: Piispansilta 11, 02230 Espoo, Finland (27 min)\n",
      "  7. SELLO: Ratsukatu 3, 02600 Espoo, Finland (37 min)\n",
      "Route 7: 133 min:\n",
      "  1. FLAMINGO: Tasetie 8, 01510 Vantaa, Finland\n",
      "  2. TENNISPALATSI: Salomonkatu 15, 00100 Helsinki, Finland (43 min)\n",
      "  3. KINO ENGEL: Sofiankatu 4, 00101 Helsinki, Finland (15 min)\n",
      "  4. MAXIM: Kluuvikatu 1, 00100 Helsinki, Finland (4 min)\n",
      "  5. KINOPALATSI: Kaisaniemenkatu 2, 00100 Helsinki, Finland (4 min)\n",
      "  6. OMENA: Piispansilta 11, 02230 Espoo, Finland (30 min)\n",
      "  7. SELLO: Ratsukatu 3, 02600 Espoo, Finland (37 min)\n",
      "Route 8: 133 min:\n",
      "  1. FLAMINGO: Tasetie 8, 01510 Vantaa, Finland\n",
      "  2. KINO ENGEL: Sofiankatu 4, 00101 Helsinki, Finland (52 min)\n",
      "  3. MAXIM: Kluuvikatu 1, 00100 Helsinki, Finland (4 min)\n",
      "  4. KINOPALATSI: Kaisaniemenkatu 2, 00100 Helsinki, Finland (4 min)\n",
      "  5. TENNISPALATSI: Salomonkatu 15, 00100 Helsinki, Finland (9 min)\n",
      "  6. OMENA: Piispansilta 11, 02230 Espoo, Finland (27 min)\n",
      "  7. SELLO: Ratsukatu 3, 02600 Espoo, Finland (37 min)\n",
      "\n",
      "\n"
     ]
    }
   ],
   "source": [
    "# print 8 best routes\n",
    "rtts.print_best_route_info(best_routes, target_info)"
   ]
  },
  {
   "cell_type": "code",
   "execution_count": null,
   "metadata": {},
   "outputs": [],
   "source": []
  }
 ],
 "metadata": {
  "kernelspec": {
   "display_name": "Python 3",
   "language": "python",
   "name": "python3"
  },
  "language_info": {
   "codemirror_mode": {
    "name": "ipython",
    "version": 3
   },
   "file_extension": ".py",
   "mimetype": "text/x-python",
   "name": "python",
   "nbconvert_exporter": "python",
   "pygments_lexer": "ipython3",
   "version": "3.6.5"
  }
 },
 "nbformat": 4,
 "nbformat_minor": 2
}
