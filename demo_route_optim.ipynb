{
 "cells": [
  {
   "cell_type": "code",
   "execution_count": 19,
   "metadata": {},
   "outputs": [],
   "source": [
    "import geopandas as gpd\n",
    "import utils.travel_times as tts\n",
    "import utils.routes_tt as rtts\n",
    "\n",
    "digitransit = False"
   ]
  },
  {
   "cell_type": "code",
   "execution_count": 20,
   "metadata": {},
   "outputs": [],
   "source": [
    "# read and filter test data (cinemas as stops)\n",
    "cinemas = gpd.read_file('data/temp/cinemas.shp')\n",
    "large_cinemas = cinemas.loc[cinemas['rooms'] > 1]\n",
    "target_points = large_cinemas[:8]\n"
   ]
  },
  {
   "cell_type": "code",
   "execution_count": 21,
   "metadata": {},
   "outputs": [
    {
     "name": "stdout",
     "output_type": "stream",
     "text": [
      "\n",
      "Extract YKR ids for targets...\n",
      "CRS match: True\n",
      "{5879925: {'name': 'FLAMINGO', 'address': 'Tasetie 8, 01510 Vantaa, Finland', 'latLon': {'lat': 60.2903, 'lon': 24.9692}}, 5977010: {'name': 'KINO ENGEL', 'address': 'Sofiankatu 4, 00101 Helsinki, Finland', 'latLon': {'lat': 60.1684, 'lon': 24.952}}, 5975376: {'name': 'KINOPALATSI', 'address': 'Kaisaniemenkatu 2, 00100 Helsinki, Finland', 'latLon': {'lat': 60.1711, 'lon': 24.9463}}, 5977009: {'name': 'MAXIM', 'address': 'Kluuvikatu 1, 00100 Helsinki, Finland', 'latLon': {'lat': 60.168, 'lon': 24.9477}}, 5978593: {'name': 'OMENA', 'address': 'Piispansilta 11, 02230 Espoo, Finland', 'latLon': {'lat': 60.1613, 'lon': 24.7383}}, 5936704: {'name': 'SELLO', 'address': 'Ratsukatu 3, 02600 Espoo, Finland', 'latLon': {'lat': 60.2183, 'lon': 24.8083}}, 5975372: {'name': 'TENNISPALATSI', 'address': 'Salomonkatu 15, 00100 Helsinki, Finland', 'latLon': {'lat': 60.1694, 'lon': 24.9307}}}\n"
     ]
    }
   ],
   "source": [
    "# get and gather target_info (ykr_ids, names & addresses)\n",
    "target_info = tts.gather_target_info(target_points, 'name', 'address_y', digitransit)\n",
    "print(target_info)\n"
   ]
  },
  {
   "cell_type": "code",
   "execution_count": 22,
   "metadata": {},
   "outputs": [
    {
     "name": "stdout",
     "output_type": "stream",
     "text": [
      "\n",
      "Querying travel times to targets: 1/7 2/7 3/7 4/7 5/7 6/7 7/7 done."
     ]
    }
   ],
   "source": [
    "# read and gather only relevant travel time dataframes to a dictionary\n",
    "tts_dict = tts.get_tt_between_targets_matrix(target_info, 'data/HelsinkiTravelTimeMatrix2018/')\n"
   ]
  },
  {
   "cell_type": "code",
   "execution_count": 23,
   "metadata": {},
   "outputs": [
    {
     "name": "stdout",
     "output_type": "stream",
     "text": [
      "\n",
      "Get all possible routes...\n",
      "Found 5040 route options\n"
     ]
    }
   ],
   "source": [
    "# find and collect all possible route options\n",
    "target_perms = rtts.get_target_permutations(tts_dict)\n"
   ]
  },
  {
   "cell_type": "code",
   "execution_count": 24,
   "metadata": {},
   "outputs": [],
   "source": [
    "# extract and collect travel times between stops for all route options\n",
    "perms_ttimes = rtts.get_all_ttimes(target_perms, tts_dict)\n"
   ]
  },
  {
   "cell_type": "code",
   "execution_count": 25,
   "metadata": {},
   "outputs": [],
   "source": [
    "# calculate total travel times for all route options\n",
    "all_ttimes_summary = rtts.calculate_total_ttimes(perms_ttimes, target_info)\n"
   ]
  },
  {
   "cell_type": "code",
   "execution_count": 26,
   "metadata": {},
   "outputs": [],
   "source": [
    "# get best routes from all route options by minimizing total travel time\n",
    "best_routes = rtts.get_best_routes(all_ttimes_summary, '', '')\n"
   ]
  },
  {
   "cell_type": "code",
   "execution_count": 27,
   "metadata": {},
   "outputs": [
    {
     "name": "stdout",
     "output_type": "stream",
     "text": [
      "\n",
      "Found multiple best routes (2):\n",
      "Route 1: 130 min:\n",
      "  1. FLAMINGO: Tasetie 8, 01510 Vantaa, Finland\n",
      "  2. KINOPALATSI: Kaisaniemenkatu 2, 00100 Helsinki, Finland (44 min)\n",
      "  3. MAXIM: Kluuvikatu 1, 00100 Helsinki, Finland (4 min)\n",
      "  4. KINO ENGEL: Sofiankatu 4, 00101 Helsinki, Finland (4 min)\n",
      "  5. TENNISPALATSI: Salomonkatu 15, 00100 Helsinki, Finland (14 min)\n",
      "  6. OMENA: Piispansilta 11, 02230 Espoo, Finland (27 min)\n",
      "  7. SELLO: Ratsukatu 3, 02600 Espoo, Finland (37 min)\n",
      "Route 2: 130 min:\n",
      "  1. FLAMINGO: Tasetie 8, 01510 Vantaa, Finland\n",
      "  2. SELLO: Ratsukatu 3, 02600 Espoo, Finland (49 min)\n",
      "  3. OMENA: Piispansilta 11, 02230 Espoo, Finland (39 min)\n",
      "  4. TENNISPALATSI: Salomonkatu 15, 00100 Helsinki, Finland (26 min)\n",
      "  5. KINOPALATSI: Kaisaniemenkatu 2, 00100 Helsinki, Finland (8 min)\n",
      "  6. MAXIM: Kluuvikatu 1, 00100 Helsinki, Finland (4 min)\n",
      "  7. KINO ENGEL: Sofiankatu 4, 00101 Helsinki, Finland (4 min)\n",
      "Route 3: 131 min:\n",
      "  1. FLAMINGO: Tasetie 8, 01510 Vantaa, Finland\n",
      "  2. SELLO: Ratsukatu 3, 02600 Espoo, Finland (49 min)\n",
      "  3. MAXIM: Kluuvikatu 1, 00100 Helsinki, Finland (35 min)\n",
      "  4. KINO ENGEL: Sofiankatu 4, 00101 Helsinki, Finland (4 min)\n",
      "  5. KINOPALATSI: Kaisaniemenkatu 2, 00100 Helsinki, Finland (7 min)\n",
      "  6. TENNISPALATSI: Salomonkatu 15, 00100 Helsinki, Finland (9 min)\n",
      "  7. OMENA: Piispansilta 11, 02230 Espoo, Finland (27 min)\n",
      "Route 4: 131 min:\n",
      "  1. FLAMINGO: Tasetie 8, 01510 Vantaa, Finland\n",
      "  2. SELLO: Ratsukatu 3, 02600 Espoo, Finland (49 min)\n",
      "  3. KINO ENGEL: Sofiankatu 4, 00101 Helsinki, Finland (38 min)\n",
      "  4. MAXIM: Kluuvikatu 1, 00100 Helsinki, Finland (4 min)\n",
      "  5. KINOPALATSI: Kaisaniemenkatu 2, 00100 Helsinki, Finland (4 min)\n",
      "  6. TENNISPALATSI: Salomonkatu 15, 00100 Helsinki, Finland (9 min)\n",
      "  7. OMENA: Piispansilta 11, 02230 Espoo, Finland (27 min)\n",
      "Route 5: 131 min:\n",
      "  1. FLAMINGO: Tasetie 8, 01510 Vantaa, Finland\n",
      "  2. SELLO: Ratsukatu 3, 02600 Espoo, Finland (49 min)\n",
      "  3. KINOPALATSI: Kaisaniemenkatu 2, 00100 Helsinki, Finland (33 min)\n",
      "  4. MAXIM: Kluuvikatu 1, 00100 Helsinki, Finland (4 min)\n",
      "  5. KINO ENGEL: Sofiankatu 4, 00101 Helsinki, Finland (4 min)\n",
      "  6. TENNISPALATSI: Salomonkatu 15, 00100 Helsinki, Finland (14 min)\n",
      "  7. OMENA: Piispansilta 11, 02230 Espoo, Finland (27 min)\n",
      "Route 6: 132 min:\n",
      "  1. FLAMINGO: Tasetie 8, 01510 Vantaa, Finland\n",
      "  2. KINOPALATSI: Kaisaniemenkatu 2, 00100 Helsinki, Finland (44 min)\n",
      "  3. KINO ENGEL: Sofiankatu 4, 00101 Helsinki, Finland (7 min)\n",
      "  4. MAXIM: Kluuvikatu 1, 00100 Helsinki, Finland (4 min)\n",
      "  5. TENNISPALATSI: Salomonkatu 15, 00100 Helsinki, Finland (13 min)\n",
      "  6. OMENA: Piispansilta 11, 02230 Espoo, Finland (27 min)\n",
      "  7. SELLO: Ratsukatu 3, 02600 Espoo, Finland (37 min)\n",
      "Route 7: 133 min:\n",
      "  1. FLAMINGO: Tasetie 8, 01510 Vantaa, Finland\n",
      "  2. TENNISPALATSI: Salomonkatu 15, 00100 Helsinki, Finland (43 min)\n",
      "  3. KINO ENGEL: Sofiankatu 4, 00101 Helsinki, Finland (15 min)\n",
      "  4. MAXIM: Kluuvikatu 1, 00100 Helsinki, Finland (4 min)\n",
      "  5. KINOPALATSI: Kaisaniemenkatu 2, 00100 Helsinki, Finland (4 min)\n",
      "  6. OMENA: Piispansilta 11, 02230 Espoo, Finland (30 min)\n",
      "  7. SELLO: Ratsukatu 3, 02600 Espoo, Finland (37 min)\n",
      "Route 8: 133 min:\n",
      "  1. FLAMINGO: Tasetie 8, 01510 Vantaa, Finland\n",
      "  2. KINO ENGEL: Sofiankatu 4, 00101 Helsinki, Finland (52 min)\n",
      "  3. MAXIM: Kluuvikatu 1, 00100 Helsinki, Finland (4 min)\n",
      "  4. KINOPALATSI: Kaisaniemenkatu 2, 00100 Helsinki, Finland (4 min)\n",
      "  5. TENNISPALATSI: Salomonkatu 15, 00100 Helsinki, Finland (9 min)\n",
      "  6. OMENA: Piispansilta 11, 02230 Espoo, Finland (27 min)\n",
      "  7. SELLO: Ratsukatu 3, 02600 Espoo, Finland (37 min)\n"
     ]
    }
   ],
   "source": [
    "# print 8 best routes\n",
    "rtts.print_best_route_info(best_routes, target_info)\n"
   ]
  },
  {
   "cell_type": "code",
   "execution_count": null,
   "metadata": {},
   "outputs": [],
   "source": []
  }
 ],
 "metadata": {
  "file_extension": ".py",
  "kernelspec": {
   "display_name": "Python gis",
   "language": "python",
   "name": "gis"
  },
  "language_info": {
   "codemirror_mode": {
    "name": "ipython",
    "version": 3
   },
   "file_extension": ".py",
   "mimetype": "text/x-python",
   "name": "python",
   "nbconvert_exporter": "python",
   "pygments_lexer": "ipython3",
   "version": "3.5.0"
  },
  "mimetype": "text/x-python",
  "name": "python",
  "npconvert_exporter": "python",
  "pygments_lexer": "ipython3",
  "version": 3
 },
 "nbformat": 4,
 "nbformat_minor": 2
}
